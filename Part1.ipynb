{
 "cells": [
  {
   "cell_type": "code",
   "execution_count": 1,
   "id": "2b0c877a",
   "metadata": {},
   "outputs": [],
   "source": [
    "import cv2\n",
    "import numpy as np\n",
    "import pytesseract\n",
    "from pdf2image import convert_from_path\n",
    "from PIL import Image\n",
    "import csv"
   ]
  },
  {
   "cell_type": "code",
   "execution_count": 2,
   "id": "9c8f6b79",
   "metadata": {},
   "outputs": [],
   "source": [
    "# Setting up the pytesseract executable path.\n",
    "pytesseract.pytesseract.tesseract_cmd = r'C:\\Program Files\\Tesseract-OCR\\tesseract.exe'"
   ]
  },
  {
   "cell_type": "code",
   "execution_count": 3,
   "id": "c16f108a",
   "metadata": {},
   "outputs": [],
   "source": [
    "# Function for PDF extraction\n",
    "def extract_pdf(file):\n",
    "    images = convert_from_path(file, dpi=300)  # Convert PDF pages to images\n",
    "    text = []\n",
    "    for image in images:\n",
    "        # Preprocess image for better OCR results\n",
    "        preprocessed_image = preprocess_image(np.array(image))\n",
    "        extracted_text = pytesseract.image_to_string(preprocessed_image)\n",
    "        text.append(extracted_text)\n",
    "    return \"\\n\".join(text)"
   ]
  },
  {
   "cell_type": "code",
   "execution_count": 4,
   "id": "562ebe57",
   "metadata": {},
   "outputs": [],
   "source": [
    "# Function for image extraction (png, jpg, jpeg files)\n",
    "def extract_img(file):\n",
    "    image = cv2.imread(file)\n",
    "    # Preprocess image for better OCR results\n",
    "    preprocessed_image = preprocess_image(image)\n",
    "    text = pytesseract.image_to_string(preprocessed_image)\n",
    "    return text"
   ]
  },
  {
   "cell_type": "code",
   "execution_count": 5,
   "id": "bd373dec",
   "metadata": {},
   "outputs": [],
   "source": [
    "# Image preprocessing function\n",
    "def preprocess_image(image):\n",
    "    # Convert to grayscale\n",
    "    gray = cv2.cvtColor(image, cv2.COLOR_BGR2GRAY)\n",
    "    \n",
    "    # Apply adaptive thresholding\n",
    "    _, binary = cv2.threshold(gray, 0, 255, cv2.THRESH_BINARY_INV | cv2.THRESH_OTSU)\n",
    "    \n",
    "    # Apply dilation\n",
    "    kernel = np.ones((1, 1), np.uint8)\n",
    "    dilated = cv2.dilate(binary, kernel, iterations=1)\n",
    "\n",
    "    # Apply noise reduction\n",
    "    blur = cv2.GaussianBlur(dilated, (5, 5), 0)\n",
    "    \n",
    "    # Skew correction\n",
    "    coords = np.column_stack(np.where(blur > 0))\n",
    "    angle = cv2.minAreaRect(coords)[-1]\n",
    "    if angle < -45:\n",
    "        angle = -(90 + angle)\n",
    "    else:\n",
    "        angle = -angle\n",
    "    (h, w) = image.shape[:2]\n",
    "    center = (w // 2, h // 2)\n",
    "    M = cv2.getRotationMatrix2D(center, angle, 1.0)\n",
    "    rotated = cv2.warpAffine(blur, M, (w, h), flags=cv2.INTER_CUBIC, borderMode=cv2.BORDER_REPLICATE)\n",
    "\n",
    "    return rotated"
   ]
  },
  {
   "cell_type": "code",
   "execution_count": 6,
   "id": "2050b0bc",
   "metadata": {},
   "outputs": [
    {
     "name": "stdout",
     "output_type": "stream",
     "text": [
      "NS S816 jt 1:\n",
      "Serve as a dal:\n",
      "\n",
      "1 be. The wore\n",
      "—epeating ther\n",
      "\n",
      "has had a ver.\n",
      "\n",
      "member, John.\n",
      "read:\n",
      "\n",
      "$$ ie, 1te\n",
      "\n",
      "oak tell\n",
      "youl\n",
      ", fd\n",
      "\n",
      "y c\n",
      "\n",
      "You\n",
      "\n",
      "——_— yj il\n",
      "\n",
      "aa vel\n",
      "\n",
      "In that instant, | saw the connection between physical vitality\n",
      "and mental agility, Julian was in picture-perfect health and looked\n",
      "many years younger than he had when we had first met. He\n",
      "brimmed with vibrancy and it appeared that his energy, enthus‘asm\n",
      "and optimism knew no bounds. | could see that he had made many\n",
      "changes to his former lifestyle, but it was obvious that the starting\n",
      "point of his magnificent transformation was mental fitness. Success\n",
      "on the outside indeed begins with success on the inside, and by\n",
      "changing his thoughts, Julian Mantle had changed his life.\n",
      "\n",
      "“Exactly how can I develop this positive, serene and inspired\n",
      "attitude, Julian? After all these years in my routine, I think my\n",
      "mental muscles have grown a little flabby. Come to think of it, I\n",
      "have very little control over the thoughts that are floating around\n",
      "the garden of my mind,” I said with sincerity.\n",
      "\n",
      "“The mind is a wonderful servant but a terrible master. If you\n",
      "have become a negative thinker, this is because you have not cared\n",
      "for your mind and taken the time to train it to focus on the good.\n",
      "Winston Churchill said that ‘the price of greatness is\n",
      "responsibility over each of your thoughts.’ Then you will install the\n",
      "vibrant mindset you are looking for. Remember, the mind truly is\n",
      "like any other muscle in your body. Use it or lose it.\"\n",
      "\n",
      "“Are you saying that if I don’t exercise my mind it will grow\n",
      "weak?”\n",
      "\n",
      "“Yes, Look at it this way. If you want to strengthen the\n",
      "muscles of your arm to achieve more, you must train them. If you\n",
      "want to toughen up your leg muscles, you must first exert them.\n",
      "Similarly, your mind will do wonderful things for you if you will\n",
      "only let it. It will attract all that you desire into your life, once you\n",
      "learn how to operate it effectively. It will create ideal health if you\n",
      "care for it properly. And it will return to its natural state of\n",
      "\n",
      "\n"
     ]
    }
   ],
   "source": [
    "# Depending on the file type, call the appropriate function and print the extracted text\n",
    "file = \"Sample Files/sample3.jpg\"\n",
    "if file.endswith('.pdf'):\n",
    "    text = extract_pdf(file)\n",
    "    print(text)\n",
    "elif file.endswith(('.png', '.jpg', '.jpeg')):\n",
    "    text = extract_img(file)\n",
    "    print(text)\n",
    "else:\n",
    "    print(\"Invalid file format. Please provide a JPEG, PNG or PDF file.\")"
   ]
  },
  {
   "cell_type": "code",
   "execution_count": 7,
   "id": "c99bc07a",
   "metadata": {},
   "outputs": [
    {
     "name": "stdout",
     "output_type": "stream",
     "text": [
      "Extracted data saved to extracted_data.csv successfully.\n"
     ]
    }
   ],
   "source": [
    "# Save the extracted text to a CSV file\n",
    "output_file = \"extracted_data.csv\"\n",
    "with open(output_file, 'w', newline='', encoding='utf-8') as csvfile:\n",
    "    writer = csv.writer(csvfile)\n",
    "    writer.writerow(['Extracted Text'])\n",
    "    writer.writerow([text])\n",
    "\n",
    "print(f\"Extracted data saved to {output_file} successfully.\")"
   ]
  }
 ],
 "metadata": {
  "kernelspec": {
   "display_name": "Python 3 (ipykernel)",
   "language": "python",
   "name": "python3"
  },
  "language_info": {
   "codemirror_mode": {
    "name": "ipython",
    "version": 3
   },
   "file_extension": ".py",
   "mimetype": "text/x-python",
   "name": "python",
   "nbconvert_exporter": "python",
   "pygments_lexer": "ipython3",
   "version": "3.11.0"
  }
 },
 "nbformat": 4,
 "nbformat_minor": 5
}
